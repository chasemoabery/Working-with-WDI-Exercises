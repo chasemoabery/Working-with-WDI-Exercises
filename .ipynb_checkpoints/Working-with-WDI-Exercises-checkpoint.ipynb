{
 "cells": [
  {
   "cell_type": "code",
   "execution_count": 1,
   "id": "fdd2cf77-b152-422e-8af3-968278641f85",
   "metadata": {
    "slideshow": {
     "slide_type": "subslide"
    },
    "tags": []
   },
   "outputs": [],
   "source": [
    "# Basic Packages\n",
    "from __future__ import division\n",
    "import os\n",
    "from datetime import datetime\n",
    "\n",
    "# Web & file access\n",
    "import requests\n",
    "import io\n",
    "\n",
    "# Import display options for showing websites\n",
    "from IPython.display import IFrame, HTML"
   ]
  },
  {
   "cell_type": "code",
   "execution_count": 2,
   "id": "d59660d9-cc66-4498-93a1-1ed724f2710b",
   "metadata": {
    "slideshow": {
     "slide_type": "subslide"
    }
   },
   "outputs": [
    {
     "name": "stdout",
     "output_type": "stream",
     "text": [
      "Using matplotlib backend: <object object at 0x112820650>\n",
      "%pylab is deprecated, use %matplotlib inline and import the required libraries.\n",
      "Populating the interactive namespace from numpy and matplotlib\n"
     ]
    }
   ],
   "source": [
    "# Plotting\n",
    "import matplotlib as mpl\n",
    "import matplotlib.pyplot as plt\n",
    "import matplotlib.ticker as mtick\n",
    "\n",
    "%pylab --no-import-all\n",
    "%matplotlib inline\n",
    "\n",
    "import seaborn as sns\n",
    "sns.set(rc={'figure.figsize':(11.7,8.27)})\n",
    "sns.set_context(\"talk\")\n",
    "\n",
    "import plotly.express as px\n",
    "import plotly.graph_objects as go\n",
    "\n",
    "from plotnine import ggplot, geom_point, aes, stat_smooth, facet_wrap\n",
    "# Next line can import all of plotnine, but may overwrite things? Better import each function/object you need\n",
    "#from plotnine import *"
   ]
  },
  {
   "cell_type": "code",
   "execution_count": 3,
   "id": "d4f16c2c-5e6f-4db2-a563-f500c4ce4064",
   "metadata": {
    "slideshow": {
     "slide_type": "subslide"
    }
   },
   "outputs": [],
   "source": [
    "# Data\n",
    "import pandas as pd\n",
    "import numpy as np\n",
    "from pandas_datareader import data, wb\n",
    "\n",
    "# GIS & maps\n",
    "import geopandas as gpd\n",
    "gp = gpd\n",
    "import georasters as gr\n",
    "import geoplot as gplt\n",
    "import geoplot.crs as gcrs\n",
    "import mapclassify as mc\n",
    "import textwrap"
   ]
  },
  {
   "cell_type": "code",
   "execution_count": 4,
   "id": "69bee481-e21a-4f08-9a8c-a06760cf3fba",
   "metadata": {
    "slideshow": {
     "slide_type": "subslide"
    }
   },
   "outputs": [],
   "source": [
    "# Data Munging\n",
    "from itertools import product, combinations\n",
    "import difflib\n",
    "import pycountry\n",
    "import geocoder\n",
    "from geonamescache.mappers import country\n",
    "mapper = country(from_key='name', to_key='iso3')\n",
    "mapper2 = country(from_key='iso3', to_key='iso')\n",
    "mapper3 = country(from_key='iso3', to_key='name')\n",
    "\n",
    "# Regressions & Stats\n",
    "from scipy.stats import norm\n",
    "import statsmodels.formula.api as smf\n",
    "#from stargazer.stargazer import Stargazer, LineLocation"
   ]
  },
  {
   "cell_type": "code",
   "execution_count": 5,
   "id": "738fd7de-cb3c-406e-8f26-14a7449c06c2",
   "metadata": {
    "slideshow": {
     "slide_type": "subslide"
    }
   },
   "outputs": [],
   "source": [
    "# Paths\n",
    "pathout = './data/'\n",
    "\n",
    "if not os.path.exists(pathout):\n",
    "    os.mkdir(pathout)\n",
    "    \n",
    "pathgraphs = './graphs/'\n",
    "if not os.path.exists(pathgraphs):\n",
    "    os.mkdir(pathgraphs)"
   ]
  },
  {
   "cell_type": "code",
   "execution_count": 6,
   "id": "9a07c0b5-56d8-47a8-8d36-7a44aaf8a98c",
   "metadata": {
    "slideshow": {
     "slide_type": "subslide"
    }
   },
   "outputs": [],
   "source": [
    "currentYear = datetime.now().year\n",
    "year = min(2020, currentYear-2)"
   ]
  },
  {
   "cell_type": "markdown",
   "id": "9d7e57da-cf59-43af-94ce-d8db8e8b5bb9",
   "metadata": {
    "slideshow": {
     "slide_type": "fragment"
    },
    "tags": [],
    "user_expressions": []
   },
   "source": [
    "<div class=\"alert alert-block alert-warning\">\n",
    "    <b>Exercise 1:</b> Get WDI data on <b>patent applications by residents and non-residents in each country</b>. Create a new variable that shows the total patents for each country.\n",
    "</div>"
   ]
  },
  {
   "cell_type": "code",
   "execution_count": 32,
   "id": "10dbae41-9a4a-4636-863f-96d13f6ddff1",
   "metadata": {},
   "outputs": [
    {
     "data": {
      "text/html": [
       "\n",
       "        <iframe\n",
       "            width=\"500\"\n",
       "            height=\"300\"\n",
       "            src=\"https://data.worldbank.org/share/widget?indicators=NY.GDP.PCAP.PP.KD\"\n",
       "            frameborder=\"0\"\n",
       "            allowfullscreen\n",
       "            \n",
       "        ></iframe>\n",
       "        "
      ],
      "text/plain": [
       "<IPython.lib.display.IFrame at 0x177b2de20>"
      ]
     },
     "execution_count": 32,
     "metadata": {},
     "output_type": "execute_result"
    }
   ],
   "source": [
    "url = 'https://data.worldbank.org/share/widget?indicators=NY.GDP.PCAP.PP.KD'\n",
    "IFrame(url, width=500, height=300)"
   ]
  },
  {
   "cell_type": "code",
   "execution_count": 33,
   "id": "e6311f8b-d435-4f8e-8a33-c6f8887fdbb1",
   "metadata": {},
   "outputs": [],
   "source": [
    "url = 'https://pandas-datareader.readthedocs.io/en/latest/remote_data.html#remote-data-wb'\n",
    "# IFrame(url, width=800, height=400)"
   ]
  },
  {
   "cell_type": "code",
   "execution_count": 34,
   "id": "572a033f-dfdd-4ae7-8482-164e65fa917f",
   "metadata": {},
   "outputs": [
    {
     "data": {
      "text/html": [
       "<div>\n",
       "<style scoped>\n",
       "    .dataframe tbody tr th:only-of-type {\n",
       "        vertical-align: middle;\n",
       "    }\n",
       "\n",
       "    .dataframe tbody tr th {\n",
       "        vertical-align: top;\n",
       "    }\n",
       "\n",
       "    .dataframe thead th {\n",
       "        text-align: right;\n",
       "    }\n",
       "</style>\n",
       "<table border=\"1\" class=\"dataframe\">\n",
       "  <thead>\n",
       "    <tr style=\"text-align: right;\">\n",
       "      <th></th>\n",
       "      <th>iso3c</th>\n",
       "      <th>iso2c</th>\n",
       "      <th>name</th>\n",
       "      <th>region</th>\n",
       "      <th>adminregion</th>\n",
       "      <th>incomeLevel</th>\n",
       "      <th>lendingType</th>\n",
       "      <th>capitalCity</th>\n",
       "      <th>longitude</th>\n",
       "      <th>latitude</th>\n",
       "    </tr>\n",
       "  </thead>\n",
       "  <tbody>\n",
       "    <tr>\n",
       "      <th>0</th>\n",
       "      <td>ABW</td>\n",
       "      <td>AW</td>\n",
       "      <td>Aruba</td>\n",
       "      <td>Latin America &amp; Caribbean</td>\n",
       "      <td></td>\n",
       "      <td>High income</td>\n",
       "      <td>Not classified</td>\n",
       "      <td>Oranjestad</td>\n",
       "      <td>-70.0167</td>\n",
       "      <td>12.5167</td>\n",
       "    </tr>\n",
       "    <tr>\n",
       "      <th>1</th>\n",
       "      <td>AFE</td>\n",
       "      <td>ZH</td>\n",
       "      <td>Africa Eastern and Southern</td>\n",
       "      <td>Aggregates</td>\n",
       "      <td></td>\n",
       "      <td>Aggregates</td>\n",
       "      <td>Aggregates</td>\n",
       "      <td></td>\n",
       "      <td>NaN</td>\n",
       "      <td>NaN</td>\n",
       "    </tr>\n",
       "    <tr>\n",
       "      <th>2</th>\n",
       "      <td>AFG</td>\n",
       "      <td>AF</td>\n",
       "      <td>Afghanistan</td>\n",
       "      <td>South Asia</td>\n",
       "      <td>South Asia</td>\n",
       "      <td>Low income</td>\n",
       "      <td>IDA</td>\n",
       "      <td>Kabul</td>\n",
       "      <td>69.1761</td>\n",
       "      <td>34.5228</td>\n",
       "    </tr>\n",
       "    <tr>\n",
       "      <th>3</th>\n",
       "      <td>AFR</td>\n",
       "      <td>A9</td>\n",
       "      <td>Africa</td>\n",
       "      <td>Aggregates</td>\n",
       "      <td></td>\n",
       "      <td>Aggregates</td>\n",
       "      <td>Aggregates</td>\n",
       "      <td></td>\n",
       "      <td>NaN</td>\n",
       "      <td>NaN</td>\n",
       "    </tr>\n",
       "    <tr>\n",
       "      <th>4</th>\n",
       "      <td>AFW</td>\n",
       "      <td>ZI</td>\n",
       "      <td>Africa Western and Central</td>\n",
       "      <td>Aggregates</td>\n",
       "      <td></td>\n",
       "      <td>Aggregates</td>\n",
       "      <td>Aggregates</td>\n",
       "      <td></td>\n",
       "      <td>NaN</td>\n",
       "      <td>NaN</td>\n",
       "    </tr>\n",
       "  </tbody>\n",
       "</table>\n",
       "</div>"
      ],
      "text/plain": [
       "  iso3c iso2c                         name                      region  \\\n",
       "0   ABW    AW                        Aruba  Latin America & Caribbean    \n",
       "1   AFE    ZH  Africa Eastern and Southern                  Aggregates   \n",
       "2   AFG    AF                  Afghanistan                  South Asia   \n",
       "3   AFR    A9                       Africa                  Aggregates   \n",
       "4   AFW    ZI   Africa Western and Central                  Aggregates   \n",
       "\n",
       "  adminregion  incomeLevel     lendingType capitalCity  longitude  latitude  \n",
       "0              High income  Not classified  Oranjestad   -70.0167   12.5167  \n",
       "1               Aggregates      Aggregates                    NaN       NaN  \n",
       "2  South Asia   Low income             IDA       Kabul    69.1761   34.5228  \n",
       "3               Aggregates      Aggregates                    NaN       NaN  \n",
       "4               Aggregates      Aggregates                    NaN       NaN  "
      ]
     },
     "execution_count": 34,
     "metadata": {},
     "output_type": "execute_result"
    }
   ],
   "source": [
    "wbcountries = wb.get_countries()\n",
    "wbcountries.head()"
   ]
  },
  {
   "cell_type": "code",
   "execution_count": 35,
   "id": "02226d7d-1230-4f38-a3b8-c1a8b7471ac2",
   "metadata": {},
   "outputs": [],
   "source": [
    "wbcountries = wb.get_countries()\n",
    "wbcountries = wbcountries.loc[wbcountries.region.isin(['Aggregates'])==False].reset_index(drop=True)\n",
    "wbcountries['name'] = wbcountries.name.str.strip()\n",
    "wbcountries['incomeLevel'] = wbcountries['incomeLevel'].str.title()\n",
    "wbcountries.loc[wbcountries.iso3c=='VEN', 'incomeLevel'] = 'Upper Middle Income'"
   ]
  },
  {
   "cell_type": "code",
   "execution_count": 11,
   "id": "a6aa20bc-d101-48af-8027-0e1469f3a62d",
   "metadata": {},
   "outputs": [],
   "source": [
    "wdi_indicators = ['NY.GDP.PCAP.PP.KD', 'NY.GDP.PCAP.KD', 'SL.GDP.PCAP.EM.KD', 'SP.POP.GROW', 'SP.POP.TOTL', 'SP.DYN.WFRT', 'SP.DYN.TFRT.IN']"
   ]
  },
  {
   "cell_type": "code",
   "execution_count": 36,
   "id": "f1bf7f2f-7f2a-4d8c-98ce-fee60de7eab5",
   "metadata": {},
   "outputs": [
    {
     "data": {
      "text/html": [
       "<div>\n",
       "<style scoped>\n",
       "    .dataframe tbody tr th:only-of-type {\n",
       "        vertical-align: middle;\n",
       "    }\n",
       "\n",
       "    .dataframe tbody tr th {\n",
       "        vertical-align: top;\n",
       "    }\n",
       "\n",
       "    .dataframe thead th {\n",
       "        text-align: right;\n",
       "    }\n",
       "</style>\n",
       "<table border=\"1\" class=\"dataframe\">\n",
       "  <thead>\n",
       "    <tr style=\"text-align: right;\">\n",
       "      <th></th>\n",
       "      <th>id</th>\n",
       "      <th>name</th>\n",
       "      <th>unit</th>\n",
       "      <th>source</th>\n",
       "      <th>sourceNote</th>\n",
       "      <th>sourceOrganization</th>\n",
       "      <th>topics</th>\n",
       "    </tr>\n",
       "  </thead>\n",
       "  <tbody>\n",
       "    <tr>\n",
       "      <th>24</th>\n",
       "      <td>1.1_ACCESS.ELECTRICITY.TOT</td>\n",
       "      <td>Access to electricity (% of total population)</td>\n",
       "      <td></td>\n",
       "      <td>Sustainable Energy for All</td>\n",
       "      <td>Access to electricity is the percentage of pop...</td>\n",
       "      <td>b'World Bank Global Electrification Database 2...</td>\n",
       "      <td></td>\n",
       "    </tr>\n",
       "    <tr>\n",
       "      <th>39</th>\n",
       "      <td>1.2_ACCESS.ELECTRICITY.RURAL</td>\n",
       "      <td>Access to electricity (% of rural population)</td>\n",
       "      <td></td>\n",
       "      <td>Sustainable Energy for All</td>\n",
       "      <td>Access to electricity is the percentage of rur...</td>\n",
       "      <td>b'World Bank Global Electrification Database 2...</td>\n",
       "      <td></td>\n",
       "    </tr>\n",
       "    <tr>\n",
       "      <th>40</th>\n",
       "      <td>1.3_ACCESS.ELECTRICITY.URBAN</td>\n",
       "      <td>Access to electricity (% of urban population)</td>\n",
       "      <td></td>\n",
       "      <td>Sustainable Energy for All</td>\n",
       "      <td>Access to electricity is the percentage of tot...</td>\n",
       "      <td>b'World Bank Global Electrification Database 2...</td>\n",
       "      <td></td>\n",
       "    </tr>\n",
       "    <tr>\n",
       "      <th>164</th>\n",
       "      <td>2.1_ACCESS.CFT.TOT</td>\n",
       "      <td>Access to Clean Fuels and Technologies for coo...</td>\n",
       "      <td></td>\n",
       "      <td>Sustainable Energy for All</td>\n",
       "      <td></td>\n",
       "      <td>b''</td>\n",
       "      <td></td>\n",
       "    </tr>\n",
       "    <tr>\n",
       "      <th>195</th>\n",
       "      <td>3.11.01.01.popcen</td>\n",
       "      <td>Population census</td>\n",
       "      <td></td>\n",
       "      <td>Statistical Capacity Indicators</td>\n",
       "      <td>Population censuses collect data on the size, ...</td>\n",
       "      <td>b'World Bank Microdata library. Original sourc...</td>\n",
       "      <td></td>\n",
       "    </tr>\n",
       "  </tbody>\n",
       "</table>\n",
       "</div>"
      ],
      "text/plain": [
       "                               id  \\\n",
       "24     1.1_ACCESS.ELECTRICITY.TOT   \n",
       "39   1.2_ACCESS.ELECTRICITY.RURAL   \n",
       "40   1.3_ACCESS.ELECTRICITY.URBAN   \n",
       "164            2.1_ACCESS.CFT.TOT   \n",
       "195             3.11.01.01.popcen   \n",
       "\n",
       "                                                  name unit  \\\n",
       "24       Access to electricity (% of total population)        \n",
       "39       Access to electricity (% of rural population)        \n",
       "40       Access to electricity (% of urban population)        \n",
       "164  Access to Clean Fuels and Technologies for coo...        \n",
       "195                                  Population census        \n",
       "\n",
       "                              source  \\\n",
       "24        Sustainable Energy for All   \n",
       "39        Sustainable Energy for All   \n",
       "40        Sustainable Energy for All   \n",
       "164       Sustainable Energy for All   \n",
       "195  Statistical Capacity Indicators   \n",
       "\n",
       "                                            sourceNote  \\\n",
       "24   Access to electricity is the percentage of pop...   \n",
       "39   Access to electricity is the percentage of rur...   \n",
       "40   Access to electricity is the percentage of tot...   \n",
       "164                                                      \n",
       "195  Population censuses collect data on the size, ...   \n",
       "\n",
       "                                    sourceOrganization topics  \n",
       "24   b'World Bank Global Electrification Database 2...         \n",
       "39   b'World Bank Global Electrification Database 2...         \n",
       "40   b'World Bank Global Electrification Database 2...         \n",
       "164                                                b''         \n",
       "195  b'World Bank Microdata library. Original sourc...         "
      ]
     },
     "execution_count": 36,
     "metadata": {},
     "output_type": "execute_result"
    }
   ],
   "source": [
    "popvars = wb.search(string='population')\n",
    "popvars.head()"
   ]
  },
  {
   "cell_type": "code",
   "execution_count": 38,
   "id": "e769a5c2-4e87-4178-a1d9-d059f231c39c",
   "metadata": {},
   "outputs": [],
   "source": [
    "# list_of_countries_ISO_A2_codes = wbcountries['iso2c']\n",
    "# list_of_countries_ISO_A2_codes.columns =['iso2c']\n",
    "# list_of_countries_ISO_A2_codes"
   ]
  },
  {
   "cell_type": "code",
   "execution_count": 39,
   "id": "0ee810dc-cae7-4719-84d3-c55ba86cef47",
   "metadata": {},
   "outputs": [],
   "source": [
    "# list_of_countries_ISO_A2_codes.columns =['iso2c']\n",
    "# list_of_countries_ISO_A2_codes\n",
    "# df_cols = list_of_countries_ISO_A2_codes.columns\n",
    "# print (df_cols)"
   ]
  },
  {
   "cell_type": "code",
   "execution_count": 40,
   "id": "5890edf5-4e82-4b3f-99c7-40821b040375",
   "metadata": {},
   "outputs": [],
   "source": [
    "# list_of_countries_ISO_A2_codes = list_of_countries_ISO_A2_codes[list_of_countries_ISO_A2_codes.'iso2c' != 'JG']"
   ]
  },
  {
   "cell_type": "code",
   "execution_count": 41,
   "id": "24c7fa60-b368-4bd9-912f-a3801ffa9b54",
   "metadata": {},
   "outputs": [
    {
     "name": "stderr",
     "output_type": "stream",
     "text": [
      "/Users/chasemoabery/opt/anaconda3/envs/EconGrowthUG-Builds/lib/python3.9/site-packages/pandas_datareader/wb.py:592: UserWarning: Non-standard ISO country codes: JG, XK\n"
     ]
    }
   ],
   "source": [
    "wdi = wb.download(indicator=wdi_indicators, country=wbcountries.iso2c.values, start=1950, end=year)"
   ]
  },
  {
   "cell_type": "code",
   "execution_count": 42,
   "id": "df730f45-8895-41eb-b5b6-0a923dea60bb",
   "metadata": {},
   "outputs": [],
   "source": [
    "wdi = wb.download(indicator=wdi_indicators, country='all', start=1950, end=year)"
   ]
  },
  {
   "cell_type": "code",
   "execution_count": 16,
   "id": "139a8779-99b5-40eb-8e87-d06d4408ef1f",
   "metadata": {},
   "outputs": [],
   "source": [
    "wdi = wdi.reset_index()\n",
    "wdi['year'] = wdi.year.astype(int)"
   ]
  },
  {
   "cell_type": "markdown",
   "id": "540d23af-2f2a-4b14-aa4e-610ca1439c26",
   "metadata": {
    "slideshow": {
     "slide_type": "fragment"
    },
    "tags": [],
    "user_expressions": []
   },
   "source": [
    "<div class=\"alert alert-block alert-warning\">\n",
    "<b>Exercise 2:</b> Using the <code>my_xy_plot</code> function plot the relation between <b>GDP per capita</b> and <b>total patents</b> in the years 1990, 1995, 2000, 2010, 2020.\n",
    "</div>"
   ]
  },
  {
   "cell_type": "code",
   "execution_count": null,
   "id": "2b58f071-8e93-4bef-87d9-d0b522ac554d",
   "metadata": {},
   "outputs": [],
   "source": []
  },
  {
   "cell_type": "markdown",
   "id": "66fb22b9-7fd6-4d4b-af39-9bd804268cd8",
   "metadata": {
    "slideshow": {
     "slide_type": "fragment"
    },
    "tags": [],
    "user_expressions": []
   },
   "source": [
    "<div class=\"alert alert-block alert-warning\">\n",
    "<b>Exercise 3:</b> Using the <code>my_xy_line_plot</code> function plot the evolution of <b>GDP per capita</b> and <b>total patents</b> by income groups and regions (separate figures).\n",
    "</div>"
   ]
  },
  {
   "cell_type": "code",
   "execution_count": null,
   "id": "8efe95b3-a594-4dc3-9e15-2b9ae71da1d1",
   "metadata": {},
   "outputs": [],
   "source": []
  },
  {
   "cell_type": "markdown",
   "id": "8edb724f-2b7a-49e6-b6a4-be124b3639e6",
   "metadata": {
    "slideshow": {
     "slide_type": "subslide"
    },
    "tags": [],
    "user_expressions": []
   },
   "source": [
    "<div class=\"alert alert-block alert-warning\">\n",
    "<b>Exercise 4:</b> Plot the relation between patenting activity by <b>residents and non-residents</b> in the year 2015. Make sure to show the 45 degree line so you can see how similar they are.\n",
    "</div>"
   ]
  },
  {
   "cell_type": "code",
   "execution_count": null,
   "id": "83f0a634-50df-4641-91c9-9bcdba0e50ab",
   "metadata": {},
   "outputs": [],
   "source": []
  },
  {
   "cell_type": "markdown",
   "id": "ee72a213-b562-43e4-ac2c-480f1f7552b9",
   "metadata": {
    "slideshow": {
     "slide_type": "fragment"
    },
    "tags": [],
    "user_expressions": []
   },
   "source": [
    "<div class=\"alert alert-block alert-warning\">\n",
    "<b>Exercise 5:</b> Create a static and a dynamic map for patenting activity in the year 2015 across the world. \n",
    "</div>"
   ]
  },
  {
   "cell_type": "code",
   "execution_count": null,
   "id": "af00db53-b1f1-44f8-946b-b41912cbbb08",
   "metadata": {},
   "outputs": [],
   "source": []
  },
  {
   "cell_type": "markdown",
   "id": "c4f32320-dd27-401c-b485-c56efef7aeb2",
   "metadata": {
    "slideshow": {
     "slide_type": "fragment"
    },
    "tags": [],
    "user_expressions": []
   },
   "source": [
    "<div class=\"alert alert-block alert-warning\">\n",
    "<b>Exercise 6:</b> Explore the relation between economic development as measured by Log[GDP per capita] and patenting activity. Show the relation for residents, non-residents, and total, all in one nice looking table. Also, produce a few nice looking figures.\n",
    "</div>"
   ]
  },
  {
   "cell_type": "code",
   "execution_count": null,
   "id": "bf7c2ef8-d4b0-4f1c-a5d8-42e8142a2a1b",
   "metadata": {},
   "outputs": [],
   "source": []
  }
 ],
 "metadata": {
  "kernelspec": {
   "display_name": "Python 3 (ipykernel)",
   "language": "python",
   "name": "python3"
  },
  "language_info": {
   "codemirror_mode": {
    "name": "ipython",
    "version": 3
   },
   "file_extension": ".py",
   "mimetype": "text/x-python",
   "name": "python",
   "nbconvert_exporter": "python",
   "pygments_lexer": "ipython3",
   "version": "3.9.13"
  }
 },
 "nbformat": 4,
 "nbformat_minor": 5
}
